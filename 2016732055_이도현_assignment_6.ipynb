{
  "nbformat": 4,
  "nbformat_minor": 0,
  "metadata": {
    "colab": {
      "name": "2016732055_이도현_assignment_6.ipynb",
      "provenance": [],
      "collapsed_sections": [],
      "include_colab_link": true
    },
    "kernelspec": {
      "name": "python3",
      "display_name": "Python 3"
    },
    "language_info": {
      "name": "python"
    }
  },
  "cells": [
    {
      "cell_type": "markdown",
      "metadata": {
        "id": "view-in-github",
        "colab_type": "text"
      },
      "source": [
        "<a href=\"https://colab.research.google.com/github/Leodhlee/assignment/blob/HW6/2016732055_%EC%9D%B4%EB%8F%84%ED%98%84_assignment_6.ipynb\" target=\"_parent\"><img src=\"https://colab.research.google.com/assets/colab-badge.svg\" alt=\"Open In Colab\"/></a>"
      ]
    },
    {
      "cell_type": "markdown",
      "metadata": {
        "id": "GJiscTiDI9lq"
      },
      "source": [
        "### 4 실습 (Assignment 6)\n",
        "* 행렬 방정식 풀기 (단, Pytorch만을 사용한다)\n",
        "  - 다음 행렬 방정식을 'Pseudo inverse matrix'를 이용해 풀어보자\n",
        "  - $A^{T}A$의 역행렬이 존재한다고 가정\n",
        "$$Ax=B$$\n",
        "$$A = \\begin{bmatrix}0 & 1 \\\\ 1 & 1 \\\\ 2 & 1 \\\\ 3 & 1 \\end{bmatrix} $$\n",
        "$$B = \\begin{bmatrix}-1 \\\\ 0.2 \\\\ 0.9 \\\\ 2.1 \\end{bmatrix} $$\n"
      ]
    },
    {
      "cell_type": "code",
      "metadata": {
        "colab": {
          "base_uri": "https://localhost:8080/"
        },
        "id": "1c_B2htov7AQ",
        "outputId": "ac3f265f-917e-4408-941a-d5a0109c18e0"
      },
      "source": [
        "import torch\n",
        "\n",
        "matA = torch.FloatTensor([[0,1],[1,1],[2,1],[3,1]])\n",
        "matA_t = torch.linalg.pinv(matA)\n",
        "\n",
        "matB = torch.FloatTensor([[-1],[0.2],[0.9],[2.1]])\n",
        "torch.matmul(matA_t, matB)"
      ],
      "execution_count": 1,
      "outputs": [
        {
          "output_type": "execute_result",
          "data": {
            "text/plain": [
              "tensor([[ 1.0000],\n",
              "        [-0.9500]])"
            ]
          },
          "metadata": {},
          "execution_count": 1
        }
      ]
    }
  ]
}