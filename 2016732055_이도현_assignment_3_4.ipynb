{
  "nbformat": 4,
  "nbformat_minor": 0,
  "metadata": {
    "colab": {
      "name": "2016732055_이도현_assignment_3_4.ipynb",
      "provenance": [],
      "collapsed_sections": [],
      "authorship_tag": "ABX9TyNFCJThpVuqZoSYFkhMsKDX",
      "include_colab_link": true
    },
    "kernelspec": {
      "name": "python3",
      "display_name": "Python 3"
    },
    "language_info": {
      "name": "python"
    }
  },
  "cells": [
    {
      "cell_type": "markdown",
      "metadata": {
        "id": "view-in-github",
        "colab_type": "text"
      },
      "source": [
        "<a href=\"https://colab.research.google.com/github/Leodhlee/assignment/blob/HW3/2016732055_%EC%9D%B4%EB%8F%84%ED%98%84_assignment_3_4.ipynb\" target=\"_parent\"><img src=\"https://colab.research.google.com/assets/colab-badge.svg\" alt=\"Open In Colab\"/></a>"
      ]
    },
    {
      "cell_type": "markdown",
      "metadata": {
        "id": "_efU9y7uMUSC"
      },
      "source": [
        "### 4 실습 (Assignment 3)\n",
        "* 행렬 방정식 풀기\n",
        "  - 다음 행렬 방정식을 'Pseudo inverse matrix'를 이용해 풀어보자\n",
        "  - $A^{T}A$의 역행렬이 존재한다고 가정\n",
        "$$Ax=B$$\n",
        "$$A = \\begin{bmatrix}0 & 1 \\\\ 1 & 1 \\\\ 2 & 1 \\\\ 3 & 1 \\end{bmatrix} $$\n",
        "$$B = \\begin{bmatrix}-1 \\\\ 0.2 \\\\ 0.9 \\\\ 2.1 \\end{bmatrix} $$\n"
      ]
    },
    {
      "cell_type": "code",
      "metadata": {
        "colab": {
          "base_uri": "https://localhost:8080/"
        },
        "id": "7Aur-3hSM1e0",
        "outputId": "8e05bd24-0096-4cb7-c685-6499b3abf13e"
      },
      "source": [
        "import numpy.linalg as lin\n",
        "import numpy as np\n",
        "\n",
        "matA = np.array([[0,1],[1,1],[2,1],[3,1]])\n",
        "matA_t = np.linalg.pinv(matA)\n",
        "matA_t\n",
        "matB = np.array([[-1],[0.2],[0.9],[2.1]])\n",
        "res = matA_t.dot(matB)\n",
        "print(res)"
      ],
      "execution_count": null,
      "outputs": [
        {
          "output_type": "stream",
          "name": "stdout",
          "text": [
            "[[ 1.  ]\n",
            " [-0.95]]\n"
          ]
        }
      ]
    },
    {
      "cell_type": "markdown",
      "metadata": {
        "id": "ZfTox0w3NgJl"
      },
      "source": [
        "### 4 실습\n",
        "* 2x2 그래프 그리기\n",
        "  - $y=x$\n",
        "  - $y=x^2$\n",
        "  - $y=sin(x)$\n",
        "  - $y=cos(x)$\n"
      ]
    },
    {
      "cell_type": "code",
      "metadata": {
        "colab": {
          "base_uri": "https://localhost:8080/",
          "height": 366
        },
        "id": "tKTtA0pqPqXu",
        "outputId": "c4942104-e196-433b-88a4-585e0541409c"
      },
      "source": [
        "import matplotlib.pyplot as plt\n",
        "import numpy as np\n",
        "\n",
        "left=0.0\n",
        "bottom=0.0\n",
        "right=1.0\n",
        "top=1.0\n",
        "wspace=1.0\n",
        "hspace=1.0\n",
        "plt.subplots_adjust(left, bottom, right, top, wspace, hspace)\n",
        "\n",
        "x = np.arange(0, 3 * np.pi, 0.1)\n",
        "y = np.arange(0, 3 * np.pi, 0.1)\n",
        "y_sin = np.sin(x)\n",
        "y_cos = np.cos(x)\n",
        "\n",
        "\n",
        "plt.subplot(2,2,1)\n",
        "plt.plot(x,y)\n",
        "plt.title('y=x')\n",
        "plt.xlabel('x axis')\n",
        "plt.ylabel('y axis')\n",
        "\n",
        "plt.subplot(2,2,2)\n",
        "plt.plot(x,x**2)\n",
        "plt.title('y=x^2')\n",
        "plt.xlabel('x axis')\n",
        "plt.ylabel('y axis')\n",
        "\n",
        "plt.subplot(2,2,3)\n",
        "plt.plot(x,y_sin)\n",
        "plt.title('y=sin(x)')\n",
        "plt.xlabel('x axis')\n",
        "plt.ylabel('y axis')\n",
        "\n",
        "plt.subplot(2,2,4)\n",
        "plt.plot(x,y_cos)\n",
        "plt.title('y=cos(x)')\n",
        "plt.xlabel('x axis')\n",
        "plt.ylabel('y axis')\n",
        "\n",
        "plt.show()"
      ],
      "execution_count": null,
      "outputs": [
        {
          "output_type": "display_data",
          "data": {
            "image/png": "[encoded data removed]",
            "text/plain": [
              "<Figure size 432x288 with 4 Axes>"
            ]
          },
          "metadata": {
            "needs_background": "light"
          }
        }
      ]
    }
  ]
}