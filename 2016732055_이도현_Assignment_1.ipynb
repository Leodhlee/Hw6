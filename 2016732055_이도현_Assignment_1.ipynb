{
  "nbformat": 4,
  "nbformat_minor": 0,
  "metadata": {
    "colab": {
      "name": "2016732055_이도현_Assignment_1.ipynb",
      "provenance": [],
      "collapsed_sections": [],
      "mount_file_id": "1Da1qytYD4uNLmFZfrPfOT4GooJxuLGqd",
      "authorship_tag": "ABX9TyPY1kFsr8vntF3SEKZGDN2r",
      "include_colab_link": true
    },
    "kernelspec": {
      "name": "python3",
      "display_name": "Python 3"
    },
    "language_info": {
      "name": "python"
    },
    "accelerator": "GPU"
  },
  "cells": [
    {
      "cell_type": "markdown",
      "metadata": {
        "id": "view-in-github",
        "colab_type": "text"
      },
      "source": [
        "<a href=\"https://colab.research.google.com/github/Leodhlee/assignment/blob/HW1/2016732055_%EC%9D%B4%EB%8F%84%ED%98%84_Assignment_1.ipynb\" target=\"_parent\"><img src=\"https://colab.research.google.com/assets/colab-badge.svg\" alt=\"Open In Colab\"/></a>"
      ]
    },
    {
      "cell_type": "markdown",
      "metadata": {
        "id": "INFE-WtMO6L6"
      },
      "source": [
        "#Assignment 1 - Readme.md 파일 만들기\n",
        "---------------------------------------\n",
        "\n",
        "##Technologies Used\n",
        "+ Google Colab\n",
        "+ Jupyter Notebook\n",
        "+ Markdown\n",
        "\n",
        "##Description\n",
        "이 과제에서는 Open source 공유시 활용되는 일반적인 Readme.md 파일 양식을 흉내내어 직접 markdown 파일을 작성해보고 markdown의 기본 문법을 복습\n",
        "합니다.\n",
        "이 문서는 Google Colab에서 Markdown 문법을 이용해 작성되었습니다.\n",
        "\n",
        "##Setup/Installation Requirements\n",
        "+ Google 계정 생성 및 Colab 로그인\n",
        "+ 새로운 노트 생성\n",
        " + 새로운 노트의 파일명을 **학번_이름_Assignment_1.ipyn**b로 변경\n",
        "+ 해당 노트 파일을 다운로드한 후 KLAS에 과제로 제출\n",
        "\n",
        "##Image example  \n",
        "* 이미지 띄워보기 연습\n",
        "\n",
        "![라이언](https://cdn.eyesmag.com/content/uploads/posts/2020/05/06/%EC%84%A0%EB%8D%B0%EC%9D%B4%EB%9D%BC%EC%9D%B4%EC%96%B8%20ep6_01_%EC%88%98%EC%A0%95-72d0c70d-1a58-41e0-9b48-7a81232cadf5.png)\n",
        "\n",
        "##Table example \n",
        "* 표 그리기 연습\n",
        "\n",
        "|품목|단가|개수|금액|\n",
        "|:------|---:|:---:|---:|\n",
        "|브로콜리|1500|5|7,500|\n",
        "|가지|1000|10|10,000|\n",
        "|아스파라거스|1000|15|15,000|\n",
        "\n",
        "##Equation example \n",
        "* 수식 표시 연습\n",
        "\n",
        "$$\n",
        "f(x)=\\int_{0}^{10} \\frac{2x{^2}+4x+6}{x-2}\n",
        "$$\n",
        "\n",
        "##Known Bugs\n",
        "+ 알려진 <u>버그</u> 없음\n",
        "\n",
        "##License\n",
        "> [MIT Licenses](https://opensource.org/licenses/MIT)\n",
        "\n",
        "\n",
        "Copyright (c) 2021 Do-hyun Lee\n"
      ]
    }
  ]
}