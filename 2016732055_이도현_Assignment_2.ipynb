{
  "nbformat": 4,
  "nbformat_minor": 0,
  "metadata": {
    "colab": {
      "name": "2016732055_이도현_Assignment_2.ipynb",
      "provenance": [],
      "collapsed_sections": [],
      "mount_file_id": "1Da1qytYD4uNLmFZfrPfOT4GooJxuLGqd",
      "authorship_tag": "ABX9TyMUVwqDP0mJS3ZUS0NP+B2J",
      "include_colab_link": true
    },
    "kernelspec": {
      "name": "python3",
      "display_name": "Python 3"
    },
    "language_info": {
      "name": "python"
    },
    "accelerator": "GPU"
  },
  "cells": [
    {
      "cell_type": "markdown",
      "metadata": {
        "id": "view-in-github",
        "colab_type": "text"
      },
      "source": [
        "<a href=\"https://colab.research.google.com/github/Leodhlee/assignment/blob/HW2/2016732055_%EC%9D%B4%EB%8F%84%ED%98%84_Assignment_2.ipynb\" target=\"_parent\"><img src=\"https://colab.research.google.com/assets/colab-badge.svg\" alt=\"Open In Colab\"/></a>"
      ]
    },
    {
      "cell_type": "markdown",
      "metadata": {
        "id": "9Ja9rCTpZlTH"
      },
      "source": [
        "#**Assignment 2 - Python 기초 복습하기 1**\n",
        "---\n",
        "By 이기백  \n",
        "인공지능응용 두 번째 과제\n",
        "\n",
        "## Technologies Used\n",
        "* Google Colab\n",
        "* Jupyter Notebook\n",
        "* Markdown\n",
        "* Python\n",
        "\n",
        "## Description\n",
        "이 과제에서는 `Python` 기초 문법을 복습합니다.  \n",
        "이 문서는 Google Colab에서 Markdown 문법을 이용해 작성되었습니다.\n",
        "\n",
        "## Setup/Installation Requirements\n",
        "* KLAS에서 과제의 첨부파일(노트)을 다운로드\n",
        "* 구글드라이브에 노트 업로드\n",
        "  - 노트의 파일명을 **학번\\_이름\\_Assignment_2.ipynb**로 변경\n",
        "* _Colab_ 에서 해당 노트에 Problem 해결\n",
        "* 해당 노트를 다운로드한 후 KLAS에서 과제로 제출\n",
        "\n",
        "## Problem 1\n",
        "* 강의자료 예제 실행해보기  \n",
        "  + 강의자료의 **Python 기초 문법** 예제들을 이 아래에 코드블럭으로 재작성하고 실행\n",
        "\n"
      ]
    },
    {
      "cell_type": "code",
      "metadata": {
        "colab": {
          "base_uri": "https://localhost:8080/"
        },
        "id": "RhX207jBSMeC",
        "outputId": "c0103ecd-8c24-4f4f-8fad-ad9052d69c92"
      },
      "source": [
        "'''\n",
        "  this is\n",
        "  comment\n",
        "'''\n",
        "print('start')\n",
        "for i in range(10):\n",
        "    if i>5:\n",
        "        print('i = %d > 5' %i)\n",
        "    elif i<5:\n",
        "        print('i = %d < 5' %i)\n",
        "    else:\n",
        "        print('i = %d = 5' %i)\n",
        "print('end')"
      ],
      "execution_count": null,
      "outputs": [
        {
          "output_type": "stream",
          "name": "stdout",
          "text": [
            "start\n",
            "i = 0 < 5\n",
            "i = 1 < 5\n",
            "i = 2 < 5\n",
            "i = 3 < 5\n",
            "i = 4 < 5\n",
            "i = 5 = 5\n",
            "i = 6 > 5\n",
            "i = 7 > 5\n",
            "i = 8 > 5\n",
            "i = 9 > 5\n",
            "end\n"
          ]
        }
      ]
    },
    {
      "cell_type": "code",
      "metadata": {
        "colab": {
          "base_uri": "https://localhost:8080/"
        },
        "id": "_sIfh8h9UWIl",
        "outputId": "860c4e73-8f1f-4d59-cdda-57755d1515c9"
      },
      "source": [
        "def func1():\n",
        "    print(' f start')\n",
        "    print(' f end')\n",
        "\n",
        "print('script start')\n",
        "func1()\n",
        "print('script start')"
      ],
      "execution_count": null,
      "outputs": [
        {
          "output_type": "stream",
          "name": "stdout",
          "text": [
            "script start\n",
            " f start\n",
            " f end\n",
            "script start\n"
          ]
        }
      ]
    },
    {
      "cell_type": "code",
      "metadata": {
        "colab": {
          "base_uri": "https://localhost:8080/"
        },
        "id": "v69u6UrkU9mK",
        "outputId": "3a938c7c-954e-40ad-e8be-bcb5697a3c42"
      },
      "source": [
        "a = input()\n",
        "print(a)"
      ],
      "execution_count": null,
      "outputs": [
        {
          "output_type": "stream",
          "name": "stdout",
          "text": [
            "32\n",
            "32\n"
          ]
        }
      ]
    },
    {
      "cell_type": "code",
      "metadata": {
        "colab": {
          "base_uri": "https://localhost:8080/"
        },
        "id": "mMkHEZIFVONu",
        "outputId": "d1ea7be9-6369-448c-990a-6e3da1aeea41"
      },
      "source": [
        "i = 4\n",
        "j = 4.5\n",
        "k = 'abc'\n",
        "print('i=%d j=%.1f k=%s' %(i,j,k))"
      ],
      "execution_count": null,
      "outputs": [
        {
          "output_type": "stream",
          "name": "stdout",
          "text": [
            "i=4 j=4.5 k=abc\n"
          ]
        }
      ]
    },
    {
      "cell_type": "markdown",
      "metadata": {
        "id": "CkikU07rSNHw"
      },
      "source": [
        "## Problem 2\n",
        "* 프로그램 작성해보기\n",
        "  + 제시된 출력결과를 보고, 아래 미완성 프로그램을 완성\n",
        "\n"
      ]
    },
    {
      "cell_type": "code",
      "metadata": {
        "colab": {
          "base_uri": "https://localhost:8080/"
        },
        "id": "-q0lUeveWHh7",
        "outputId": "7addee6a-2637-4cbf-a76d-886cae20217c"
      },
      "source": [
        "name = input(\"What is your name? \")\n",
        "age = input(\"How old are you? \")\n",
        "grade = input(\"What is your grade point average? \")\n",
        "\n",
        "print('Your name is %s' % name)\n",
        "print('Your age is %s' % age)\n",
        "print('Your greade point average is %s' % grade)"
      ],
      "execution_count": null,
      "outputs": [
        {
          "output_type": "stream",
          "name": "stdout",
          "text": [
            "What is your name? lee\n",
            "How old are you? 25\n",
            "What is your grade point average? 45\n",
            "Your name is lee\n",
            "Your age is 25\n",
            "Your greade point average is 45\n"
          ]
        }
      ]
    },
    {
      "cell_type": "markdown",
      "metadata": {
        "id": "8Nmx9hOOWWVX"
      },
      "source": [
        "> 출력결과\n",
        "\n",
        "What is your name? (키보드입력)Kim  \n",
        "How old are you? (키보드입력)20  \n",
        "What is your grade point average? (키보드입력)4.5  \n",
        "Your name is Kim  \n",
        "Your age is 20  \n",
        "Your grade is 4.5  \n",
        "\n",
        "## Known Bugs\n",
        "* 알려진 <u>버그</u> 없음\n",
        "\n",
        "## License\n",
        ">[MIT License](https://opensource.org/licenses/MIT)\n",
        "\n",
        "Copyright (c) 2021 Ki-Baek Lee"
      ]
    }
  ]
}