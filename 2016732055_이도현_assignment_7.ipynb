{
  "nbformat": 4,
  "nbformat_minor": 0,
  "metadata": {
    "colab": {
      "name": "2016732055_이도현_assignment_7.ipynb",
      "provenance": [],
      "collapsed_sections": [],
      "include_colab_link": true
    },
    "kernelspec": {
      "name": "python3",
      "display_name": "Python 3"
    },
    "language_info": {
      "name": "python"
    }
  },
  "cells": [
    {
      "cell_type": "markdown",
      "metadata": {
        "id": "view-in-github",
        "colab_type": "text"
      },
      "source": [
        "<a href=\"https://colab.research.google.com/github/Leodhlee/assignment/blob/HW7/2016732055_%EC%9D%B4%EB%8F%84%ED%98%84_assignment_7.ipynb\" target=\"_parent\"><img src=\"https://colab.research.google.com/assets/colab-badge.svg\" alt=\"Open In Colab\"/></a>"
      ]
    },
    {
      "cell_type": "markdown",
      "metadata": {
        "id": "hc6TPzluWB1M"
      },
      "source": [
        "### 5 Assignment\n",
        "* 행렬 방정식 풀기\n",
        "  - 다음 행렬 방정식을 'Linear Regression'을 이용해 풀어보자\n",
        "    + 적당한 learning rate를 찾아 1000 epoch 정도 계산해본다\n",
        "    + 'Pseudo Inverse'를 이용한 풀이와 비교해본다\n",
        "  - Hint: y = wx 꼴로 변환해본다\n",
        "    + Ax=B에서는 x가 미지수이지만, y=wx에서는 w가 미지수임에 주의!\n",
        "    + linear model에서 b를 없애기 위해서 nn.Linear() 사용법을 검색해보자 \n",
        "$$Ax=B$$\n",
        "$$A = \\begin{bmatrix}0 & 1 \\\\ 1 & 1 \\\\ 2 & 1 \\\\ 3 & 1 \\end{bmatrix} $$\n",
        "$$B = \\begin{bmatrix}-1 \\\\ 0.2 \\\\ 0.9 \\\\ 2.1 \\end{bmatrix} $$"
      ]
    },
    {
      "cell_type": "code",
      "metadata": {
        "colab": {
          "base_uri": "https://localhost:8080/"
        },
        "id": "O8puTiVwQ0S7",
        "outputId": "9dd9dbbe-c2ad-41b6-ef80-4e5aa5456f91"
      },
      "source": [
        "import numpy as np\n",
        "import numpy.linalg as lin\n",
        "import torch\n",
        "import torch.nn as nn\n",
        "import torch.nn.functional as func\n",
        "import torch.optim as opt\n",
        "\n",
        "\n",
        "matA = np.array([[0,1],[1,1],[2,1],[3,1]])\n",
        "matA_t = np.linalg.pinv(matA)\n",
        "matA_t\n",
        "matB = np.array([[-1],[0.2],[0.9],[2.1]])\n",
        "res = matA_t.dot(matB)\n",
        "print(res)\n",
        "\n",
        "\n",
        "a_train = torch.FloatTensor([[0,1],[1,1],[2,1],[3,1]])\n",
        "b_train = torch.FloatTensor([[-1],[0.2],[0.9],[2.1]])\n",
        "\n",
        "model = nn.Linear(2,1, bias = False)\n",
        "optimizer = opt.SGD(model.parameters(), lr=0.1)\n",
        "\n",
        "# 반복\n",
        "for epoch in range(1000):\n",
        "  b_hypo = model(x_train)\n",
        "  cost = func.mse_loss(b_hypo, b_train)\n",
        "\n",
        "  # model update\n",
        "  optimizer.zero_grad()\n",
        "  cost.backward()\n",
        "  optimizer.step()\n",
        "\n",
        "  # 100번 마다 중간결과 출력\n",
        "  if epoch % 100 == 99:\n",
        "    params = list(model.parameters())\n",
        "    #w = params[1].item()\n",
        "    print('Epoch {:4d}/{} Cost: {:.6f}'.format(epoch+1, 1000, cost.item()))\n",
        "\n",
        "print(params)"
      ],
      "execution_count": 47,
      "outputs": [
        {
          "output_type": "stream",
          "name": "stdout",
          "text": [
            "[[ 1.  ]\n",
            " [-0.95]]\n",
            "Epoch  100/1000 Cost: 0.012505\n",
            "Epoch  200/1000 Cost: 0.012500\n",
            "Epoch  300/1000 Cost: 0.012500\n",
            "Epoch  400/1000 Cost: 0.012500\n",
            "Epoch  500/1000 Cost: 0.012500\n",
            "Epoch  600/1000 Cost: 0.012500\n",
            "Epoch  700/1000 Cost: 0.012500\n",
            "Epoch  800/1000 Cost: 0.012500\n",
            "Epoch  900/1000 Cost: 0.012500\n",
            "Epoch 1000/1000 Cost: 0.012500\n",
            "[Parameter containing:\n",
            "tensor([[ 1.0000, -0.9500]], requires_grad=True)]\n"
          ]
        }
      ]
    }
  ]
}